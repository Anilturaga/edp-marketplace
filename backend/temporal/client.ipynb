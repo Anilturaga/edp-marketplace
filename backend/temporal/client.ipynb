{
 "cells": [
  {
   "cell_type": "code",
   "execution_count": 1,
   "metadata": {},
   "outputs": [],
   "source": [
    "from temporalio.client import Client\n",
    "client = await Client.connect(\"localhost:7233\")\n"
   ]
  },
  {
   "cell_type": "code",
   "execution_count": 2,
   "metadata": {},
   "outputs": [
    {
     "data": {
      "text/plain": [
       "<temporalio.client.WorkflowHandle at 0x103733d90>"
      ]
     },
     "execution_count": 2,
     "metadata": {},
     "output_type": "execute_result"
    }
   ],
   "source": [
    "await client.start_workflow(\n",
    "    \"Workflow\",\n",
    "    {\"user_id\":\"Anil\", 'run_id':\"123\"},\n",
    "    id=\"consumer-Anil-123\",\n",
    "    task_queue=\"Anil\" + \"-queue\",\n",
    "    id_reuse_policy=4,\n",
    ")"
   ]
  },
  {
   "cell_type": "code",
   "execution_count": 3,
   "metadata": {},
   "outputs": [
    {
     "data": {
      "text/plain": [
       "<bound method Client.list_workflows of <temporalio.client.Client object at 0x103731a20>>"
      ]
     },
     "execution_count": 3,
     "metadata": {},
     "output_type": "execute_result"
    }
   ],
   "source": [
    "client.list_workflows"
   ]
  },
  {
   "cell_type": "code",
   "execution_count": 4,
   "metadata": {},
   "outputs": [],
   "source": [
    "agent_workflow_handle = client.get_workflow_handle(\n",
    "        \"consumer-Anil-123\",\n",
    "    )"
   ]
  },
  {
   "cell_type": "code",
   "execution_count": 5,
   "metadata": {},
   "outputs": [],
   "source": [
    "await agent_workflow_handle.signal(\n",
    "        \"user_msg_signal\",\n",
    "            \"say hit to hdfc\"\n",
    "    )"
   ]
  },
  {
   "cell_type": "code",
   "execution_count": 6,
   "metadata": {},
   "outputs": [
    {
     "data": {
      "text/plain": [
       "<temporalio.client.WorkflowHandle at 0x103733fa0>"
      ]
     },
     "execution_count": 6,
     "metadata": {},
     "output_type": "execute_result"
    }
   ],
   "source": [
    "await client.start_workflow(\n",
    "    \"Workflow\",\n",
    "    {\"user_id\":\"Anil\", 'run_id':\"1234\"},\n",
    "    id=\"consumer-Anil-1234\",\n",
    "    task_queue=\"Anil\" + \"-queue\",\n",
    "    id_reuse_policy=4,\n",
    ")"
   ]
  },
  {
   "cell_type": "code",
   "execution_count": 7,
   "metadata": {},
   "outputs": [],
   "source": [
    "agent_workflow_handle = client.get_workflow_handle(\n",
    "        \"consumer-Anil-1234\",\n",
    "    )"
   ]
  },
  {
   "cell_type": "code",
   "execution_count": 8,
   "metadata": {},
   "outputs": [],
   "source": [
    "await agent_workflow_handle.signal(\n",
    "        \"user_msg_signal\",\n",
    "            \"ask hdfc what time it is\"\n",
    "    )"
   ]
  },
  {
   "cell_type": "code",
   "execution_count": 9,
   "metadata": {},
   "outputs": [],
   "source": [
    "await agent_workflow_handle.signal(\n",
    "        \"user_msg_signal\",\n",
    "            \"remind me to call mom in 30 seconds.\"\n",
    "    )"
   ]
  }
 ],
 "metadata": {
  "kernelspec": {
   "display_name": ".venv",
   "language": "python",
   "name": "python3"
  },
  "language_info": {
   "codemirror_mode": {
    "name": "ipython",
    "version": 3
   },
   "file_extension": ".py",
   "mimetype": "text/x-python",
   "name": "python",
   "nbconvert_exporter": "python",
   "pygments_lexer": "ipython3",
   "version": "3.10.11"
  }
 },
 "nbformat": 4,
 "nbformat_minor": 2
}
